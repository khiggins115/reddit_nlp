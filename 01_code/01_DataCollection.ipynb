{
 "cells": [
  {
   "cell_type": "markdown",
   "id": "476a7edb-2fdb-470a-9163-8362474a370b",
   "metadata": {},
   "source": [
    "# Reddit Data\n",
    "### Step 1. Read in Data"
   ]
  },
  {
   "cell_type": "code",
   "execution_count": 1,
   "id": "a37c92c4-2b16-439a-ad10-1b100938bc09",
   "metadata": {},
   "outputs": [],
   "source": [
    "# standard imports\n",
    "import pandas as pd\n",
    "import requests # Pushshift accesses Reddit via a url so this is needed\n",
    "import json # JSON manipulation"
   ]
  },
  {
   "cell_type": "code",
   "execution_count": 69,
   "id": "717d1389-0155-4371-8c70-22c11d00e04c",
   "metadata": {},
   "outputs": [],
   "source": [
    "# set URL\n",
    "url = 'https://api.pushshift.io/reddit/search/submission/'\n",
    "\n",
    "# point to subreddit\n",
    "params_sr1 = {'subreddit': 'C_S_T'}\n",
    "params_sr2 = {'subreddit': 'conspiracy'}\n",
    "\n",
    "response_sr1 = requests.get(url, params_sr1)\n",
    "response_sr2 = requests.get(url, params_sr2)\n",
    "\n",
    "#check for errors in request -- we're all good\n",
    "#response_sr2.status_code"
   ]
  },
  {
   "cell_type": "code",
   "execution_count": 70,
   "id": "efafeb4f-8ff8-4dd6-95b6-10e6dde705b9",
   "metadata": {
    "collapsed": true,
    "jupyter": {
     "outputs_hidden": true
    },
    "tags": []
   },
   "outputs": [
    {
     "name": "stdout",
     "output_type": "stream",
     "text": [
      "<class 'pandas.core.frame.DataFrame'>\n",
      "RangeIndex: 25 entries, 0 to 24\n",
      "Data columns (total 69 columns):\n",
      " #   Column                       Non-Null Count  Dtype  \n",
      "---  ------                       --------------  -----  \n",
      " 0   all_awardings                25 non-null     object \n",
      " 1   allow_live_comments          25 non-null     bool   \n",
      " 2   author                       25 non-null     object \n",
      " 3   author_flair_css_class       0 non-null      object \n",
      " 4   author_flair_richtext        25 non-null     object \n",
      " 5   author_flair_text            0 non-null      object \n",
      " 6   author_flair_type            25 non-null     object \n",
      " 7   author_fullname              25 non-null     object \n",
      " 8   author_is_blocked            25 non-null     bool   \n",
      " 9   author_patreon_flair         25 non-null     bool   \n",
      " 10  author_premium               25 non-null     bool   \n",
      " 11  awarders                     25 non-null     object \n",
      " 12  can_mod_post                 25 non-null     bool   \n",
      " 13  contest_mode                 25 non-null     bool   \n",
      " 14  created_utc                  25 non-null     int64  \n",
      " 15  domain                       25 non-null     object \n",
      " 16  full_link                    25 non-null     object \n",
      " 17  gildings                     25 non-null     object \n",
      " 18  id                           25 non-null     object \n",
      " 19  is_created_from_ads_ui       25 non-null     bool   \n",
      " 20  is_crosspostable             25 non-null     bool   \n",
      " 21  is_meta                      25 non-null     bool   \n",
      " 22  is_original_content          25 non-null     bool   \n",
      " 23  is_reddit_media_domain       25 non-null     bool   \n",
      " 24  is_robot_indexable           25 non-null     bool   \n",
      " 25  is_self                      25 non-null     bool   \n",
      " 26  is_video                     25 non-null     bool   \n",
      " 27  link_flair_background_color  25 non-null     object \n",
      " 28  link_flair_richtext          25 non-null     object \n",
      " 29  link_flair_text_color        25 non-null     object \n",
      " 30  link_flair_type              25 non-null     object \n",
      " 31  locked                       25 non-null     bool   \n",
      " 32  media_only                   25 non-null     bool   \n",
      " 33  no_follow                    25 non-null     bool   \n",
      " 34  num_comments                 25 non-null     int64  \n",
      " 35  num_crossposts               25 non-null     int64  \n",
      " 36  over_18                      25 non-null     bool   \n",
      " 37  parent_whitelist_status      25 non-null     object \n",
      " 38  permalink                    25 non-null     object \n",
      " 39  pinned                       25 non-null     bool   \n",
      " 40  pwls                         25 non-null     int64  \n",
      " 41  retrieved_on                 25 non-null     int64  \n",
      " 42  score                        25 non-null     int64  \n",
      " 43  selftext                     25 non-null     object \n",
      " 44  send_replies                 25 non-null     bool   \n",
      " 45  spoiler                      25 non-null     bool   \n",
      " 46  stickied                     25 non-null     bool   \n",
      " 47  subreddit                    25 non-null     object \n",
      " 48  subreddit_id                 25 non-null     object \n",
      " 49  subreddit_subscribers        25 non-null     int64  \n",
      " 50  subreddit_type               25 non-null     object \n",
      " 51  thumbnail                    25 non-null     object \n",
      " 52  title                        25 non-null     object \n",
      " 53  total_awards_received        25 non-null     int64  \n",
      " 54  treatment_tags               25 non-null     object \n",
      " 55  upvote_ratio                 25 non-null     float64\n",
      " 56  url                          25 non-null     object \n",
      " 57  whitelist_status             25 non-null     object \n",
      " 58  wls                          25 non-null     int64  \n",
      " 59  post_hint                    15 non-null     object \n",
      " 60  preview                      15 non-null     object \n",
      " 61  removed_by_category          1 non-null      object \n",
      " 62  thumbnail_height             12 non-null     float64\n",
      " 63  thumbnail_width              12 non-null     float64\n",
      " 64  url_overridden_by_dest       14 non-null     object \n",
      " 65  media                        2 non-null      object \n",
      " 66  media_embed                  2 non-null      object \n",
      " 67  secure_media                 2 non-null      object \n",
      " 68  secure_media_embed           2 non-null      object \n",
      "dtypes: bool(22), float64(3), int64(9), object(35)\n",
      "memory usage: 9.8+ KB\n"
     ]
    }
   ],
   "source": [
    "# get the json data from both\n",
    "data_sr1 = response_sr1.json()\n",
    "data_sr2 = response_sr2.json()\n",
    "\n",
    "# turn json dict into posts DataFrame\n",
    "posts_sr1 = pd.DataFrame(data_sr1['data'])\n",
    "posts_sr2 = pd.DataFrame(data_sr2['data'])\n",
    "\n",
    "#inspect\n",
    "posts_sr2.info()"
   ]
  },
  {
   "cell_type": "code",
   "execution_count": 71,
   "id": "4551ad97-0717-4d0f-8186-75d531d086e0",
   "metadata": {},
   "outputs": [],
   "source": [
    "# write a function to do this\n",
    "\n",
    "# Function is variation on Katie Sylvia's BreakFast Hour Instruction\n",
    "def get_pushshift_data(year, subreddit):\n",
    "    year = str(year)\n",
    "    \n",
    "    start = year + '-01-01'\n",
    "    if year == '2021':\n",
    "        end = year + '-10-08'\n",
    "    else:\n",
    "        end = year + '-12-31'\n",
    "    #print(start, end)    \n",
    "    \n",
    "    # URL\n",
    "    url = 'https://api.pushshift.io/reddit/search/submission/'\n",
    "    # Add params\n",
    "    params = {'subreddit': subreddit,\n",
    "              'size': 100,\n",
    "              'after': start,\n",
    "              'before': end,\n",
    "              'filter': ['subreddit', 'title', 'selftext', 'num_comments', 'score'],\n",
    "              #'num_comments': '>0',\n",
    "              #'score': '>10'\n",
    "              'selftext': True}\n",
    "     \n",
    "    # Get the data\n",
    "    res = requests.get(url, params)\n",
    "    # Convert the request into a list of dict objects\n",
    "    data = res.json()\n",
    "    # Go deeper\n",
    "    posts = data['data']\n",
    "    # Turn into DataFrame\n",
    "    df = pd.DataFrame(posts)\n",
    "\n",
    "    return df"
   ]
  },
  {
   "cell_type": "code",
   "execution_count": 74,
   "id": "2f147d2d-305c-4c13-890e-696017803c64",
   "metadata": {},
   "outputs": [
    {
     "name": "stdout",
     "output_type": "stream",
     "text": [
      "<class 'pandas.core.frame.DataFrame'>\n",
      "Int64Index: 500 entries, 0 to 99\n",
      "Data columns (total 5 columns):\n",
      " #   Column        Non-Null Count  Dtype \n",
      "---  ------        --------------  ----- \n",
      " 0   num_comments  500 non-null    int64 \n",
      " 1   score         500 non-null    int64 \n",
      " 2   selftext      500 non-null    object\n",
      " 3   subreddit     500 non-null    object\n",
      " 4   title         500 non-null    object\n",
      "dtypes: int64(2), object(3)\n",
      "memory usage: 23.4+ KB\n"
     ]
    }
   ],
   "source": [
    "cst_2021 = get_pushshift_data(2021, 'C_S_T')\n",
    "cst_2020 = get_pushshift_data(2020, 'C_S_T')\n",
    "cst_2019 = get_pushshift_data(2019, 'C_S_T')\n",
    "cst_2018 = get_pushshift_data(2018, 'C_S_T')\n",
    "cst_2017 = get_pushshift_data(2017, 'C_S_T')\n",
    "\n",
    "cst_df = pd.concat([cst_2017, cst_2018, cst_2019, cst_2020, cst_2021])\n",
    "cst_df.info()"
   ]
  },
  {
   "cell_type": "code",
   "execution_count": 76,
   "id": "ae7347d0-b174-467b-a950-992d3874e7d2",
   "metadata": {},
   "outputs": [
    {
     "name": "stdout",
     "output_type": "stream",
     "text": [
      "<class 'pandas.core.frame.DataFrame'>\n",
      "Int64Index: 500 entries, 0 to 99\n",
      "Data columns (total 5 columns):\n",
      " #   Column        Non-Null Count  Dtype \n",
      "---  ------        --------------  ----- \n",
      " 0   num_comments  500 non-null    int64 \n",
      " 1   score         500 non-null    int64 \n",
      " 2   selftext      500 non-null    object\n",
      " 3   subreddit     500 non-null    object\n",
      " 4   title         500 non-null    object\n",
      "dtypes: int64(2), object(3)\n",
      "memory usage: 23.4+ KB\n"
     ]
    }
   ],
   "source": [
    "#get reddit data from r/conspiracy\n",
    "con_2021 = get_pushshift_data(2021, 'conspiracy')\n",
    "con_2020 = get_pushshift_data(2020, 'conspiracy')\n",
    "con_2019 = get_pushshift_data(2019, 'conspiracy')\n",
    "con_2018 = get_pushshift_data(2018, 'conspiracy')\n",
    "con_2017 = get_pushshift_data(2017, 'conspiracy')\n",
    "\n",
    "\n",
    "#convert to DF\n",
    "con_df = pd.concat([con_2017, con_2018, con_2019, con_2020, con_2021])\n",
    "#ls_df.head()\n",
    "con_df.info()"
   ]
  },
  {
   "cell_type": "code",
   "execution_count": 77,
   "id": "967ed4da-c3f8-4b0e-a2f7-7c2b9512a2b9",
   "metadata": {},
   "outputs": [],
   "source": [
    "# \n",
    "subreddits = pd.concat([cst_df, con_df])\n",
    "\n",
    "subreddits.to_csv('./data/subreddits.csv', index=False)\n"
   ]
  },
  {
   "cell_type": "code",
   "execution_count": null,
   "id": "d3261bcc-edb4-4321-97fa-d7955a1a1a9a",
   "metadata": {},
   "outputs": [],
   "source": []
  }
 ],
 "metadata": {
  "kernelspec": {
   "display_name": "Python 3",
   "language": "python",
   "name": "python3"
  },
  "language_info": {
   "codemirror_mode": {
    "name": "ipython",
    "version": 3
   },
   "file_extension": ".py",
   "mimetype": "text/x-python",
   "name": "python",
   "nbconvert_exporter": "python",
   "pygments_lexer": "ipython3",
   "version": "3.8.8"
  }
 },
 "nbformat": 4,
 "nbformat_minor": 5
}
