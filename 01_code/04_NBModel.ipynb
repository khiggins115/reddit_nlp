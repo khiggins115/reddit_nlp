{
 "cells": [
  {
   "cell_type": "markdown",
   "id": "6b87ea0c-504a-4bca-9c3e-aba63cd79ebd",
   "metadata": {},
   "source": [
    "# Bayes Classification Model\n",
    "\n",
    "Per the project instructions, one of our models of choice must be a Bayes classification model. \n",
    "\n",
    "I'll be trying a handful of Naive Bayes classifiers: Multinomial, Complement and Bernoulli - trying each with a TfidfVectorizer and a CountVectorizer (default params on each) to see which performs best without hypertuning the parameters. The highest performing models will then be re-investigated as we GridSearch over the parameters to hopefully increase the model's accuracy. "
   ]
  },
  {
   "cell_type": "code",
   "execution_count": 23,
   "id": "4bf0edc7-f39d-4bb6-b8b9-af267873c9a5",
   "metadata": {},
   "outputs": [],
   "source": [
    "import matplotlib.pyplot as plt\n",
    "import numpy as np\n",
    "import pandas as pd\n",
    "import seaborn as sns\n",
    "import re\n",
    "\n",
    "# https://scikit-learn.org/stable/modules/naive_bayes.html\n",
    "from sklearn.naive_bayes import MultinomialNB, ComplementNB, BernoulliNB\n",
    "from sklearn.preprocessing import StandardScaler\n",
    "from sklearn.model_selection import train_test_split, GridSearchCV, cross_val_score\n",
    "from sklearn.feature_extraction.text import CountVectorizer, TfidfVectorizer\n",
    "from sklearn.pipeline import make_pipeline\n",
    "from sklearn.metrics import balanced_accuracy_score, f1_score\n",
    "from nltk.stem import WordNetLemmatizer\n",
    "from nltk.corpus import stopwords"
   ]
  },
  {
   "cell_type": "code",
   "execution_count": 3,
   "id": "afac6f51-48f4-4239-9076-a9d5d325307c",
   "metadata": {
    "tags": []
   },
   "outputs": [
    {
     "data": {
      "text/html": [
       "<div>\n",
       "<style scoped>\n",
       "    .dataframe tbody tr th:only-of-type {\n",
       "        vertical-align: middle;\n",
       "    }\n",
       "\n",
       "    .dataframe tbody tr th {\n",
       "        vertical-align: top;\n",
       "    }\n",
       "\n",
       "    .dataframe thead th {\n",
       "        text-align: right;\n",
       "    }\n",
       "</style>\n",
       "<table border=\"1\" class=\"dataframe\">\n",
       "  <thead>\n",
       "    <tr style=\"text-align: right;\">\n",
       "      <th></th>\n",
       "      <th>num_comments</th>\n",
       "      <th>score</th>\n",
       "      <th>selftext</th>\n",
       "      <th>subreddit</th>\n",
       "      <th>title</th>\n",
       "      <th>clean_selftext</th>\n",
       "      <th>clean_title</th>\n",
       "      <th>wordcount_clean_selftext</th>\n",
       "      <th>wordcount_clean_title</th>\n",
       "    </tr>\n",
       "  </thead>\n",
       "  <tbody>\n",
       "    <tr>\n",
       "      <th>0</th>\n",
       "      <td>1</td>\n",
       "      <td>0</td>\n",
       "      <td>**Maybe it's *staged* right**?! We all know th...</td>\n",
       "      <td>C_S_T</td>\n",
       "      <td>Koch Brother and Trump biographer kicked out o...</td>\n",
       "      <td>maybe staged right know koch bros der juden co...</td>\n",
       "      <td>koch brother trump biographer kicked trump gol...</td>\n",
       "      <td>160</td>\n",
       "      <td>8</td>\n",
       "    </tr>\n",
       "    <tr>\n",
       "      <th>1</th>\n",
       "      <td>21</td>\n",
       "      <td>31</td>\n",
       "      <td>[Part 1: It Starts With Your Thinking](https:/...</td>\n",
       "      <td>C_S_T</td>\n",
       "      <td>How Not To Get Sick - Part 3: Discarding Your ...</td>\n",
       "      <td>part 1 start thinking http www reddit com r c_...</td>\n",
       "      <td>get sick part 3 discarding victim mentality</td>\n",
       "      <td>950</td>\n",
       "      <td>7</td>\n",
       "    </tr>\n",
       "  </tbody>\n",
       "</table>\n",
       "</div>"
      ],
      "text/plain": [
       "   num_comments  score                                           selftext  \\\n",
       "0             1      0  **Maybe it's *staged* right**?! We all know th...   \n",
       "1            21     31  [Part 1: It Starts With Your Thinking](https:/...   \n",
       "\n",
       "  subreddit                                              title  \\\n",
       "0     C_S_T  Koch Brother and Trump biographer kicked out o...   \n",
       "1     C_S_T  How Not To Get Sick - Part 3: Discarding Your ...   \n",
       "\n",
       "                                      clean_selftext  \\\n",
       "0  maybe staged right know koch bros der juden co...   \n",
       "1  part 1 start thinking http www reddit com r c_...   \n",
       "\n",
       "                                         clean_title  \\\n",
       "0  koch brother trump biographer kicked trump gol...   \n",
       "1        get sick part 3 discarding victim mentality   \n",
       "\n",
       "   wordcount_clean_selftext  wordcount_clean_title  \n",
       "0                       160                      8  \n",
       "1                       950                      7  "
      ]
     },
     "execution_count": 3,
     "metadata": {},
     "output_type": "execute_result"
    }
   ],
   "source": [
    "# read in clean data, inspect\n",
    "data = pd.read_csv('./data/clean_subreddits.csv')\n",
    "\n",
    "data.head(2)"
   ]
  },
  {
   "cell_type": "code",
   "execution_count": 4,
   "id": "c7d99510-792e-4ae5-8288-00d8f95bfcf5",
   "metadata": {},
   "outputs": [
    {
     "data": {
      "text/plain": [
       "'Theory: The pandemic is being used as a catalyst to usher in the technocracy age of automation and artificial intelligence. (For better or for worse)'"
      ]
     },
     "execution_count": 4,
     "metadata": {},
     "output_type": "execute_result"
    }
   ],
   "source": [
    "data['title'][910]"
   ]
  },
  {
   "cell_type": "code",
   "execution_count": 5,
   "id": "e096b56e-1763-4686-b068-c4b7d72a948b",
   "metadata": {},
   "outputs": [
    {
     "data": {
      "text/plain": [
       "0    0.5\n",
       "1    0.5\n",
       "Name: subreddit, dtype: float64"
      ]
     },
     "execution_count": 5,
     "metadata": {},
     "output_type": "execute_result"
    }
   ],
   "source": [
    "# subreddit must be numeric val\n",
    "data['subreddit'], vals = pd.factorize(data['subreddit'])\n",
    "\n",
    "data['subreddit'].value_counts(normalize=True)"
   ]
  },
  {
   "cell_type": "markdown",
   "id": "fd97bd3b-945d-4783-a4b1-bf19eddaee2e",
   "metadata": {},
   "source": [
    "***BASELINE***\n",
    "\n",
    "Our baseline accuracy score is 0.50. Essentially, since we have an even number of both classes, we could flip a coin and do a pretty decent job of predicting which subreddit the post text came from. Our goal is to create a model that outperforms a coinflip."
   ]
  },
  {
   "cell_type": "code",
   "execution_count": 8,
   "id": "c1e260b1-79b0-4ea0-9bbb-ed4adca08ad1",
   "metadata": {},
   "outputs": [
    {
     "name": "stdout",
     "output_type": "stream",
     "text": [
      "(750,) (750,)\n"
     ]
    }
   ],
   "source": [
    "# set X & y\n",
    "X = data['clean_selftext']\n",
    "y = data['subreddit']\n",
    "\n",
    "# TTS\n",
    "X_train, X_test, y_train, y_test = train_test_split(X, y, random_state=42)\n",
    "\n",
    "#check shape\n",
    "print(X_train.shape, y_train.shape)"
   ]
  },
  {
   "cell_type": "code",
   "execution_count": 12,
   "id": "824c1445-8a4a-474e-a858-94f39a7ee56e",
   "metadata": {},
   "outputs": [],
   "source": [
    "# instantiate bayes models create a list for future iteration\n",
    "mnb = MultinomialNB()\n",
    "cnb = ComplementNB()\n",
    "bnb = BernoulliNB()\n",
    "\n",
    "bayes_est = [mnb, cnb, bnb]"
   ]
  },
  {
   "cell_type": "code",
   "execution_count": 51,
   "id": "5c09a99e-1ce9-4d0e-98cc-9a55bd766645",
   "metadata": {},
   "outputs": [],
   "source": [
    "# functions to instantiate and fit the estimator of choice\n",
    "def cv_models(estimator):\n",
    "    pipe = make_pipeline(CountVectorizer(), estimator)\n",
    "    pipe.fit(X_train, y_train)\n",
    "    train_score = pipe.score(X_train, y_train)\n",
    "    test_score = pipe.score(X_test, y_test)\n",
    "    \n",
    "    return estimator, train_score, test_score\n",
    "\n",
    "def tfidf_models(estimator):\n",
    "    pipe = make_pipeline(TfidfVectorizer(), estimator)\n",
    "    pipe.fit(X_train, y_train)\n",
    "    train_score = pipe.score(X_train, y_train)\n",
    "    test_score = pipe.score(X_test, y_test)\n",
    "    \n",
    "    return estimator, train_score, test_score"
   ]
  },
  {
   "cell_type": "code",
   "execution_count": 21,
   "id": "60ec2aba-df2f-460c-aa78-63712aab7f2d",
   "metadata": {},
   "outputs": [
    {
     "name": "stdout",
     "output_type": "stream",
     "text": [
      "(MultinomialNB(), 0.9133333333333333, 0.752)\n",
      "(ComplementNB(), 0.9133333333333333, 0.752)\n",
      "(BernoulliNB(), 0.7413333333333333, 0.552)\n"
     ]
    }
   ],
   "source": [
    "for i in bayes_est:\n",
    "    print(cv_models(i))"
   ]
  },
  {
   "cell_type": "code",
   "execution_count": 22,
   "id": "1960e873-d049-411d-9638-83728013a7d5",
   "metadata": {},
   "outputs": [
    {
     "name": "stdout",
     "output_type": "stream",
     "text": [
      "(MultinomialNB(), 0.8786666666666667, 0.708)\n",
      "(ComplementNB(), 0.8813333333333333, 0.716)\n",
      "(BernoulliNB(), 0.7413333333333333, 0.552)\n"
     ]
    }
   ],
   "source": [
    "for i in bayes_est:\n",
    "    print(tfidf_models(i))"
   ]
  },
  {
   "cell_type": "markdown",
   "id": "d1f11b97-7f29-4f13-ad3f-3a328a8a22fc",
   "metadata": {},
   "source": [
    "***Interpretation***:\n",
    "\n",
    "Above we can see the output of two simple functions that fit and score Bayesian classifiers with their default hyperparameters, one with CountVectorizer and the other with TfidfVectorizer, and returns their training and test scores. Based on the results, it looks like Multinomial Naive Bayes and Complement Naive Bayes are the best models. CountVectorizer appears to perform better than the Tfidf Vectorizer. \n",
    "\n",
    "We will use GridSearchCV to tune these estimators and identify the best parameters in the hopes of increasing our testing accuracy. "
   ]
  },
  {
   "cell_type": "markdown",
   "id": "fecbcb36-0c41-437f-a2d3-7f9b48a5e36b",
   "metadata": {},
   "source": [
    "---\n",
    "\n",
    "### **GridSearchCV to Optimize CountVectorizer/Bayes Combo Models**\n",
    "\n",
    "Given the above results, we will now perform a GridSearch over the parameters in the hopes of increasing our testing accuracy. "
   ]
  },
  {
   "cell_type": "code",
   "execution_count": 35,
   "id": "3efd06bc-4242-4b3e-8668-1736bd55a597",
   "metadata": {},
   "outputs": [
    {
     "name": "stdout",
     "output_type": "stream",
     "text": [
      "Train Score:  0.9653333333333334\n",
      "Test Score:  0.732\n"
     ]
    }
   ],
   "source": [
    "# scores w/no train_size 0.92/0.73\n",
    "cv_pipe = make_pipeline(\n",
    "    #CountVectorizer(binary=False, max_df=0.5, stop_words='english', ngram_range=(1,1)), \n",
    "    CountVectorizer(),\n",
    "    MultinomialNB()\n",
    ")\n",
    "\n",
    "cv_params = {\n",
    "    'countvectorizer__binary': [True, False],\n",
    "    'countvectorizer__ngram_range': [(1, 1), (1, 2), (2, 2)],\n",
    "    'countvectorizer__stop_words': [None, 'english'],\n",
    "    'countvectorizer__max_features': [None, 100, 200],\n",
    "    'countvectorizer__max_df': [0.5, 0.75, 1],\n",
    "    'multinomialnb__alpha': [0, 0.5, 1.0],\n",
    "    'multinomialnb__fit_prior': [True, False]\n",
    "}\n",
    "\n",
    "\n",
    "#cv_pipe.fit(X_train, y_train)\n",
    "gs = GridSearchCV(estimator=cv_pipe, param_grid=cv_params, n_jobs=-1)\n",
    "\n",
    "gs.fit(X_train, y_train)\n",
    "\n",
    "print(\"Train Score: \", gs.score(X_train, y_train))\n",
    "print('Test Score: ', gs.score(X_test, y_test))"
   ]
  },
  {
   "cell_type": "code",
   "execution_count": 36,
   "id": "624e41e1-fccb-475c-8d65-03043646a248",
   "metadata": {},
   "outputs": [
    {
     "name": "stdout",
     "output_type": "stream",
     "text": [
      "Best Params:  {'countvectorizer__binary': True, 'countvectorizer__max_df': 0.75, 'countvectorizer__max_features': None, 'countvectorizer__ngram_range': (1, 1), 'countvectorizer__stop_words': 'english', 'multinomialnb__alpha': 0.5, 'multinomialnb__fit_prior': True}\n"
     ]
    }
   ],
   "source": [
    "# identify the best parameters\n",
    "print('Best Params: ', gs.best_params_)"
   ]
  },
  {
   "cell_type": "code",
   "execution_count": 30,
   "id": "d5c61225-0866-49ff-bf75-0d60319f2d2b",
   "metadata": {},
   "outputs": [
    {
     "name": "stderr",
     "output_type": "stream",
     "text": [
      "/opt/anaconda3/lib/python3.8/site-packages/sklearn/feature_extraction/text.py:1208: UserWarning: Upper case characters found in vocabulary while 'lowercase' is True. These entries will not be matched with any documents\n",
      "  warnings.warn(\n"
     ]
    },
    {
     "name": "stdout",
     "output_type": "stream",
     "text": [
      "0.71 accuracy with a standard deviation of 0.06\n"
     ]
    },
    {
     "name": "stderr",
     "output_type": "stream",
     "text": [
      "/opt/anaconda3/lib/python3.8/site-packages/sklearn/feature_extraction/text.py:1208: UserWarning: Upper case characters found in vocabulary while 'lowercase' is True. These entries will not be matched with any documents\n",
      "  warnings.warn(\n"
     ]
    }
   ],
   "source": [
    "scores = cross_val_score(gs, X_test, y_test)\n",
    "\n",
    "# https://scikit-learn.org/stable/modules/cross_validation.html\n",
    "print(\"%0.2f accuracy with a standard deviation of %0.2f\" % (scores.mean(), scores.std()))"
   ]
  },
  {
   "cell_type": "code",
   "execution_count": 31,
   "id": "bd818c47-8adb-4a8a-8788-b9c06fed665b",
   "metadata": {},
   "outputs": [],
   "source": [
    "# generate preds and see where they don't match up\n",
    "# preds = gs.predict(X_test)"
   ]
  },
  {
   "cell_type": "markdown",
   "id": "1e3a54b0-e0ad-4e6e-b2ca-b022bd5e71b1",
   "metadata": {},
   "source": [
    "***Model Interpretation**\n",
    "\n",
    "The discrepancy between the training and the testing scores indicates that our model is overfit. \n",
    "\n",
    "However, we don't particularly care about overfitting, so long as our accuracy is outperforming our baseline model (0.5) then it is performing acceptably. \n",
    "\n",
    "GridSearching for ideal parameters did not yield any increase in testing score accuracy. The defaults still perform best. "
   ]
  },
  {
   "cell_type": "markdown",
   "id": "8aba1db8-81a4-4db2-aacf-a12b1c56bd5a",
   "metadata": {},
   "source": [
    "### **ComplementNB**\n",
    "\n",
    "#### So far, this model has best balance between training/test score"
   ]
  },
  {
   "cell_type": "code",
   "execution_count": 42,
   "id": "0da3b8c6-228d-4756-bd23-ddd844151a89",
   "metadata": {},
   "outputs": [
    {
     "name": "stdout",
     "output_type": "stream",
     "text": [
      "Train Score:  0.9386666666666666\n",
      "Test Score:  0.756\n"
     ]
    }
   ],
   "source": [
    "pipe = make_pipeline(CountVectorizer(ngram_range=(1,1)), ComplementNB())\n",
    "\n",
    "cv_params = {\n",
    "#     'countvectorizer__binary': [True, False],\n",
    "#     'countvectorizer__ngram_range': [(1, 1), (1, 2), (1, 4), (2, 2)],\n",
    "    'countvectorizer__stop_words': [None, 'english'],\n",
    "    #'countvectorizer__max_features': [None, 100, 200],\n",
    "#     'countvectorizer__max_df': [0.5, 0.75, 1]\n",
    "    'complementnb__alpha': [0, 0.5, 0.75, 1.0],\n",
    "    'complementnb__fit_prior': [True, False],\n",
    "    'complementnb__norm': [True, False]\n",
    "    \n",
    "}\n",
    "\n",
    "gs = GridSearchCV(estimator=pipe, param_grid=cv_params, n_jobs=-1)\n",
    "\n",
    "gs.fit(X_train, y_train)\n",
    "#pipe.fit(X_train, y_train)\n",
    "print(\"Train Score: \", gs.score(X_train, y_train))\n",
    "print('Test Score: ', gs.score(X_test, y_test))"
   ]
  },
  {
   "cell_type": "code",
   "execution_count": 43,
   "id": "8a0ba559-f010-4214-bd97-7bdad7d7564c",
   "metadata": {},
   "outputs": [
    {
     "data": {
      "text/plain": [
       "{'complementnb__alpha': 0.5,\n",
       " 'complementnb__fit_prior': True,\n",
       " 'complementnb__norm': False,\n",
       " 'countvectorizer__stop_words': None}"
      ]
     },
     "execution_count": 43,
     "metadata": {},
     "output_type": "execute_result"
    }
   ],
   "source": [
    "gs.best_params_"
   ]
  },
  {
   "cell_type": "code",
   "execution_count": 45,
   "id": "0ca99996-2e72-4f9d-a6c5-5c845e8b47b6",
   "metadata": {},
   "outputs": [
    {
     "data": {
      "text/plain": [
       "0.7578765368852459"
      ]
     },
     "execution_count": 45,
     "metadata": {},
     "output_type": "execute_result"
    }
   ],
   "source": [
    "acc = balanced_accuracy_score(y_test, gs.predict(X_test))\n",
    "acc"
   ]
  },
  {
   "cell_type": "code",
   "execution_count": 47,
   "id": "bdf3804b-a540-472c-94fc-9c257f795211",
   "metadata": {},
   "outputs": [],
   "source": [
    "from sklearn.metrics import confusion_matrix, ConfusionMatrixDisplay"
   ]
  },
  {
   "cell_type": "code",
   "execution_count": 48,
   "id": "db2a347e-dda7-4de1-a898-0ccc2e56a6e7",
   "metadata": {},
   "outputs": [
    {
     "data": {
      "text/plain": [
       "<Figure size 1800x1800 with 0 Axes>"
      ]
     },
     "metadata": {},
     "output_type": "display_data"
    },
    {
     "data": {
      "image/png": "[encoded data removed]",
      "text/plain": [
       "<Figure size 432x288 with 2 Axes>"
      ]
     },
     "metadata": {
      "needs_background": "light"
     },
     "output_type": "display_data"
    }
   ],
   "source": [
    "cm = confusion_matrix(y_test, gs.predict(X_test), labels=[0, 1])\n",
    "disp = ConfusionMatrixDisplay(cm, display_labels=['C_S_T', 'conspiracy'])\n",
    "\n",
    "plt.figure(figsize=(25, 25))\n",
    "disp.plot();\n",
    "plt.show();"
   ]
  },
  {
   "cell_type": "code",
   "execution_count": 50,
   "id": "cc42b71d-406d-4afc-97c5-204ef253e0b0",
   "metadata": {},
   "outputs": [
    {
     "name": "stdout",
     "output_type": "stream",
     "text": [
      "102 20 41 87\n"
     ]
    }
   ],
   "source": [
    "tn, fp, fn, tp = confusion_matrix(y_test, gs.predict(X_test), labels=[0, 1]).ravel()\n",
    "print(tn, fp, fn, tp)"
   ]
  },
  {
   "cell_type": "markdown",
   "id": "8967c8c5-c5a5-4b65-a9ab-a790f11e33b1",
   "metadata": {},
   "source": [
    "***Summary***\n",
    "\n",
    "The ComplementNB Classifier yielded the best overall test score. We can see here that the model has a high false negative rate, and more often assigns actual conspiracy posts as C_S_T than it does the opposite (only half as many were predicted conspiracy when they were actually C_S_T). \n",
    "\n",
    "This is our best model of the Bayes Classifiers that we tried. This model was run with and without a StandardScaler, ultimately finding greater accuracy if the StandardScaler was excluded from the pipeline. In further modeling, we'll explore other, non-bayesian classifiers and compare the results. \n",
    "\n",
    "---\n",
    "### **GridSearchCV with Tfidf Vectorizer & ComplementNB**\n",
    "\n",
    "Just for fun, used the highest performing Tfidf/Bayes combo from the earlier default estimator functions. As expected, it did not perform our winning model (CountVectorizer/ComplementNB). "
   ]
  },
  {
   "cell_type": "code",
   "execution_count": 24,
   "id": "fd1b4f4e-ea9c-4a0f-acd6-c2670d27cd0b",
   "metadata": {},
   "outputs": [
    {
     "name": "stdout",
     "output_type": "stream",
     "text": [
      "Train Score:  0.8813333333333333\n",
      "Test Score:  0.716\n"
     ]
    }
   ],
   "source": [
    "tf_pipe = make_pipeline(TfidfVectorizer(), ComplementNB())\n",
    "\n",
    "# tf_pipe.get_params()\n",
    "# tf_params = {\n",
    "#     'tfidfvectorizer__ngram_range': [(1, 1), (1, 2), (1, 4), (2, 2)],\n",
    "#     'tfidfvectorizer__stop_words': [None, 'english'],\n",
    "#     #'tfidfvectorizer__min_df': [0.5, 0.75, 1],\n",
    "#     'tfidfvectorizer__norm': ['l1', 'l2'],\n",
    "#     'tfidfvectorizer__use_idf': [True, False]\n",
    "# }\n",
    "\n",
    "# gs_2 = GridSearchCV(estimator=tf_pipe, param_grid=tf_params, n_jobs=-1)\n",
    "\n",
    "tf_pipe.fit(X_train, y_train)\n",
    "\n",
    "print(\"Train Score: \", tf_pipe.score(X_train, y_train))\n",
    "print('Test Score: ', tf_pipe.score(X_test, y_test))"
   ]
  },
  {
   "cell_type": "markdown",
   "id": "09d12a6f-4b2c-4314-821f-8db2b802a63c",
   "metadata": {},
   "source": [
    "***Summary*** \n",
    "\n",
    "This model did not outperform the others (not that I expected it to), but I included it to see if tuning the parameters could bring the testing accuracy closer to the CountVectorizer/Bayes combo models. \n",
    "\n",
    "We were unable to achieve that. Clearly, the CountVectorizer/Bayes combo(s) win out. "
   ]
  }
 ],
 "metadata": {
  "kernelspec": {
   "display_name": "Python 3",
   "language": "python",
   "name": "python3"
  },
  "language_info": {
   "codemirror_mode": {
    "name": "ipython",
    "version": 3
   },
   "file_extension": ".py",
   "mimetype": "text/x-python",
   "name": "python",
   "nbconvert_exporter": "python",
   "pygments_lexer": "ipython3",
   "version": "3.8.8"
  }
 },
 "nbformat": 4,
 "nbformat_minor": 5
}
