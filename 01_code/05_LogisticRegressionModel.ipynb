{
 "cells": [
  {
   "cell_type": "markdown",
   "id": "a9e9be05-8dfa-4d45-9558-0ce5bb0c10df",
   "metadata": {},
   "source": [
    "# Logistic Regression\n",
    "\n",
    "The second model can be one of our choosing. Here I will implement a Logistic Regression (which typically performs better than any of the NB models)"
   ]
  },
  {
   "cell_type": "code",
   "execution_count": 3,
   "id": "39a03f13-145c-43e5-ae5b-5b27312b39b0",
   "metadata": {},
   "outputs": [],
   "source": [
    "import matplotlib.pyplot as plt\n",
    "import numpy as np\n",
    "import pandas as pd\n",
    "import seaborn as sns\n",
    "import re\n",
    "\n",
    "# https://scikit-learn.org/stable/modules/naive_bayes.html\n",
    "from sklearn.linear_model import LogisticRegression\n",
    "from sklearn.ensemble import AdaBoostClassifier, GradientBoostingClassifier, HistGradientBoostingClassifier, RandomForestClassifier\n",
    "from sklearn.ensemble import BaggingClassifier\n",
    "from sklearn.tree import DecisionTreeClassifier\n",
    "from sklearn.preprocessing import StandardScaler\n",
    "from sklearn.model_selection import train_test_split, GridSearchCV, cross_val_score\n",
    "from sklearn.feature_extraction.text import CountVectorizer, TfidfVectorizer\n",
    "from sklearn.pipeline import make_pipeline\n",
    "from sklearn.metrics import balanced_accuracy_score, f1_score\n",
    "from nltk.stem import WordNetLemmatizer\n",
    "from nltk.corpus import stopwords"
   ]
  },
  {
   "cell_type": "code",
   "execution_count": 4,
   "id": "6320bfb3-4f45-4861-bf75-6a2c18e8ffe4",
   "metadata": {},
   "outputs": [
    {
     "data": {
      "text/html": [
       "<div>\n",
       "<style scoped>\n",
       "    .dataframe tbody tr th:only-of-type {\n",
       "        vertical-align: middle;\n",
       "    }\n",
       "\n",
       "    .dataframe tbody tr th {\n",
       "        vertical-align: top;\n",
       "    }\n",
       "\n",
       "    .dataframe thead th {\n",
       "        text-align: right;\n",
       "    }\n",
       "</style>\n",
       "<table border=\"1\" class=\"dataframe\">\n",
       "  <thead>\n",
       "    <tr style=\"text-align: right;\">\n",
       "      <th></th>\n",
       "      <th>num_comments</th>\n",
       "      <th>score</th>\n",
       "      <th>selftext</th>\n",
       "      <th>subreddit</th>\n",
       "      <th>title</th>\n",
       "      <th>clean_selftext</th>\n",
       "      <th>clean_title</th>\n",
       "      <th>wordcount_clean_selftext</th>\n",
       "      <th>wordcount_clean_title</th>\n",
       "    </tr>\n",
       "  </thead>\n",
       "  <tbody>\n",
       "    <tr>\n",
       "      <th>0</th>\n",
       "      <td>1</td>\n",
       "      <td>0</td>\n",
       "      <td>**Maybe it's *staged* right**?! We all know th...</td>\n",
       "      <td>C_S_T</td>\n",
       "      <td>Koch Brother and Trump biographer kicked out o...</td>\n",
       "      <td>maybe staged right know koch bros der juden co...</td>\n",
       "      <td>koch brother trump biographer kicked trump gol...</td>\n",
       "      <td>160</td>\n",
       "      <td>8</td>\n",
       "    </tr>\n",
       "    <tr>\n",
       "      <th>1</th>\n",
       "      <td>21</td>\n",
       "      <td>31</td>\n",
       "      <td>[Part 1: It Starts With Your Thinking](https:/...</td>\n",
       "      <td>C_S_T</td>\n",
       "      <td>How Not To Get Sick - Part 3: Discarding Your ...</td>\n",
       "      <td>part 1 start thinking http www reddit com r c_...</td>\n",
       "      <td>get sick part 3 discarding victim mentality</td>\n",
       "      <td>950</td>\n",
       "      <td>7</td>\n",
       "    </tr>\n",
       "  </tbody>\n",
       "</table>\n",
       "</div>"
      ],
      "text/plain": [
       "   num_comments  score                                           selftext  \\\n",
       "0             1      0  **Maybe it's *staged* right**?! We all know th...   \n",
       "1            21     31  [Part 1: It Starts With Your Thinking](https:/...   \n",
       "\n",
       "  subreddit                                              title  \\\n",
       "0     C_S_T  Koch Brother and Trump biographer kicked out o...   \n",
       "1     C_S_T  How Not To Get Sick - Part 3: Discarding Your ...   \n",
       "\n",
       "                                      clean_selftext  \\\n",
       "0  maybe staged right know koch bros der juden co...   \n",
       "1  part 1 start thinking http www reddit com r c_...   \n",
       "\n",
       "                                         clean_title  \\\n",
       "0  koch brother trump biographer kicked trump gol...   \n",
       "1        get sick part 3 discarding victim mentality   \n",
       "\n",
       "   wordcount_clean_selftext  wordcount_clean_title  \n",
       "0                       160                      8  \n",
       "1                       950                      7  "
      ]
     },
     "execution_count": 4,
     "metadata": {},
     "output_type": "execute_result"
    }
   ],
   "source": [
    "# read in clean data, inspect\n",
    "data = pd.read_csv('./data/clean_subreddits.csv')\n",
    "\n",
    "\n",
    "data.head(2)"
   ]
  },
  {
   "cell_type": "code",
   "execution_count": 5,
   "id": "f9868fb2-8d7f-4b89-97b5-7022ff9c9629",
   "metadata": {},
   "outputs": [
    {
     "name": "stdout",
     "output_type": "stream",
     "text": [
      "<class 'pandas.core.frame.DataFrame'>\n",
      "RangeIndex: 1000 entries, 0 to 999\n",
      "Data columns (total 9 columns):\n",
      " #   Column                    Non-Null Count  Dtype \n",
      "---  ------                    --------------  ----- \n",
      " 0   num_comments              1000 non-null   int64 \n",
      " 1   score                     1000 non-null   int64 \n",
      " 2   selftext                  1000 non-null   object\n",
      " 3   subreddit                 1000 non-null   object\n",
      " 4   title                     1000 non-null   object\n",
      " 5   clean_selftext            1000 non-null   object\n",
      " 6   clean_title               997 non-null    object\n",
      " 7   wordcount_clean_selftext  1000 non-null   int64 \n",
      " 8   wordcount_clean_title     1000 non-null   int64 \n",
      "dtypes: int64(4), object(5)\n",
      "memory usage: 70.4+ KB\n"
     ]
    }
   ],
   "source": [
    "data.info()"
   ]
  },
  {
   "cell_type": "code",
   "execution_count": 3,
   "id": "cdf6cea8-c383-4d70-8117-2569fc04216f",
   "metadata": {},
   "outputs": [
    {
     "data": {
      "text/plain": [
       "0    0.5\n",
       "1    0.5\n",
       "Name: subreddit, dtype: float64"
      ]
     },
     "execution_count": 3,
     "metadata": {},
     "output_type": "execute_result"
    }
   ],
   "source": [
    "# subreddit must be numeric val\n",
    "data['subreddit'], vals = pd.factorize(data['subreddit'])\n",
    "\n",
    "data['subreddit'].value_counts(normalize=True)"
   ]
  },
  {
   "cell_type": "code",
   "execution_count": 8,
   "id": "d0943541-e0c8-492e-9d11-3fb140eaef1f",
   "metadata": {},
   "outputs": [
    {
     "name": "stdout",
     "output_type": "stream",
     "text": [
      "(750,) (750,)\n"
     ]
    }
   ],
   "source": [
    "# set X & y\n",
    "X = data['clean_selftext']\n",
    "y = data['subreddit']\n",
    "\n",
    "# TTS\n",
    "X_train, X_test, y_train, y_test = train_test_split(X, y, random_state=42)\n",
    "\n",
    "#check shape\n",
    "print(X_train.shape, y_train.shape)"
   ]
  },
  {
   "cell_type": "code",
   "execution_count": 34,
   "id": "5d761a26-5dbf-475a-b7dc-582237dc315c",
   "metadata": {},
   "outputs": [],
   "source": [
    "# instantiate models for use, create list\n",
    "lr = LogisticRegression(max_iter=2_000, random_state=42) #set max iter to take care of convergence warning\n",
    "ada = AdaBoostClassifier(random_state=42)\n",
    "gbc = GradientBoostingClassifier(random_state=42)\n",
    "#hbc = HistGradientBoostingClassifier()\n",
    "rfc = RandomForestClassifier(random_state=42)\n",
    "\n",
    "classifiers = [lr, ada, gbc, rfc]"
   ]
  },
  {
   "cell_type": "code",
   "execution_count": 35,
   "id": "f0f3864c-c420-4c2a-afda-98e8d20c0895",
   "metadata": {},
   "outputs": [],
   "source": [
    "#function to loop through\n",
    "def cv_estimator(vectorizer, classifier):\n",
    "    pipe = make_pipeline(vectorizer, classifier)\n",
    "    pipe.fit(X_train, y_train)\n",
    "    train_score = pipe.score(X_train, y_train)\n",
    "    test_score = pipe.score(X_test, y_test)\n",
    "    \n",
    "    return vectorizer, classifier, train_score, test_score"
   ]
  },
  {
   "cell_type": "code",
   "execution_count": 37,
   "id": "56953523-60b0-4d76-84e7-7cc09b7c9f4f",
   "metadata": {},
   "outputs": [
    {
     "name": "stdout",
     "output_type": "stream",
     "text": [
      "(CountVectorizer(stop_words='english'), LogisticRegression(max_iter=2000, random_state=42), 0.9946666666666667, 0.632)\n",
      "(CountVectorizer(), LogisticRegression(max_iter=2000, random_state=42), 0.9946666666666667, 0.652)\n",
      "(CountVectorizer(stop_words='english'), AdaBoostClassifier(random_state=42), 0.8653333333333333, 0.612)\n",
      "(CountVectorizer(), AdaBoostClassifier(random_state=42), 0.8626666666666667, 0.616)\n",
      "(CountVectorizer(stop_words='english'), GradientBoostingClassifier(random_state=42), 0.9493333333333334, 0.644)\n",
      "(CountVectorizer(), GradientBoostingClassifier(random_state=42), 0.944, 0.668)\n",
      "(CountVectorizer(stop_words='english'), RandomForestClassifier(random_state=42), 0.9946666666666667, 0.632)\n",
      "(CountVectorizer(), RandomForestClassifier(random_state=42), 0.9946666666666667, 0.616)\n"
     ]
    }
   ],
   "source": [
    "# CVect with and without stop words\n",
    "for i in classifiers:\n",
    "    print(cv_estimator(CountVectorizer(stop_words='english'), i))\n",
    "    print(cv_estimator(CountVectorizer(stop_words=None), i))"
   ]
  },
  {
   "cell_type": "code",
   "execution_count": 38,
   "id": "2db38699-5500-4087-a007-349116c8716b",
   "metadata": {},
   "outputs": [
    {
     "name": "stdout",
     "output_type": "stream",
     "text": [
      "(TfidfVectorizer(stop_words='english'), LogisticRegression(max_iter=2000, random_state=42), 0.9333333333333333, 0.7)\n",
      "(TfidfVectorizer(), LogisticRegression(max_iter=2000, random_state=42), 0.932, 0.7)\n",
      "(TfidfVectorizer(stop_words='english'), AdaBoostClassifier(random_state=42), 0.9066666666666666, 0.664)\n",
      "(TfidfVectorizer(), AdaBoostClassifier(random_state=42), 0.916, 0.652)\n",
      "(TfidfVectorizer(stop_words='english'), GradientBoostingClassifier(random_state=42), 0.9826666666666667, 0.696)\n",
      "(TfidfVectorizer(), GradientBoostingClassifier(random_state=42), 0.9773333333333334, 0.68)\n",
      "(TfidfVectorizer(stop_words='english'), RandomForestClassifier(random_state=42), 0.9946666666666667, 0.628)\n",
      "(TfidfVectorizer(), RandomForestClassifier(random_state=42), 0.9946666666666667, 0.636)\n"
     ]
    }
   ],
   "source": [
    "# Tfidf with and without stop words\n",
    "for i in classifiers:\n",
    "    print(cv_estimator(TfidfVectorizer(stop_words='english'), i))\n",
    "    print(cv_estimator(TfidfVectorizer(stop_words=None), i))"
   ]
  },
  {
   "cell_type": "markdown",
   "id": "1d9c3c63-3c8e-4bde-8a9a-e1021cd04bbb",
   "metadata": {},
   "source": [
    "***Summary***\n",
    "\n",
    "The best performing model with Count Vectorizer was the LogisticRegression model (without stopwords, interestingly enough). \n",
    "\n",
    "TfidfVectorizer performed well with both the Logistic Regression model and the GradientBoostingClassifier. Below, I will GridSearchCV over some parameters to see if they can be optimized for better accuracy than our earlier Bayes models. \n",
    "\n",
    "---\n",
    "\n",
    "### ***CountVectorizer with Logistic Regression***\n",
    "\n",
    "Testing out some parameters to optimize the model. "
   ]
  },
  {
   "cell_type": "code",
   "execution_count": 70,
   "id": "35ff4e4f-6a02-45cf-8739-9838f9901a0f",
   "metadata": {},
   "outputs": [
    {
     "name": "stderr",
     "output_type": "stream",
     "text": [
      "/opt/anaconda3/lib/python3.8/site-packages/sklearn/linear_model/_sag.py:352: ConvergenceWarning: The max_iter was reached which means the coef_ did not converge\n",
      "  warnings.warn(\n"
     ]
    },
    {
     "name": "stdout",
     "output_type": "stream",
     "text": [
      "Train Score:  0.9933333333333333\n",
      "Test Score:  0.704\n"
     ]
    }
   ],
   "source": [
    "# scores w/no train_size 0.92/0.73\n",
    "cv_pipe = make_pipeline(\n",
    "    CountVectorizer(stop_words=None),\n",
    "    #CountVectorizer(binary=False, max_df=0.5, stop_words='english', ngram_range=(1,1)),\n",
    "    StandardScaler(with_mean=False),\n",
    "    LogisticRegression(max_iter=5_000, penalty='elasticnet', C=0.5, solver='saga', l1_ratio=0.5)\n",
    "    #LogisticRegression(max_iter=5_000)\n",
    ")\n",
    "\n",
    "cv_pipe.get_params()\n",
    "# cv_params = {\n",
    "#     'countvectorizer__binary': [True, False],\n",
    "#     'countvectorizer__ngram_range': [(1, 1), (1, 2), (1, 4), (2, 2)],\n",
    "#     'countvectorizer__stop_words': [None, 'english'],\n",
    "#     'countvectorizer__max_features': [None, 100, 200],\n",
    "#     'countvectorizer__max_df': [0.5, 0.75, 1]\n",
    "# }\n",
    "\n",
    "\n",
    "cv_pipe.fit(X_train, y_train)\n",
    "# gs = GridSearchCV(estimator=cv_pipe, param_grid=cv_params, n_jobs=-1)\n",
    "\n",
    "# gs.fit(X_train, y_train)\n",
    "\n",
    "print(\"Train Score: \", cv_pipe.score(X_train, y_train))\n",
    "print('Test Score: ', cv_pipe.score(X_test, y_test))\n",
    "\n",
    "#Best Params:  {'countvectorizer__binary': False, 'countvectorizer__max_df': 0.5, 'countvectorizer__max_features': None, 'countvectorizer__ngram_range': (1, 1), 'countvectorizer__stop_words': 'english'}"
   ]
  },
  {
   "cell_type": "code",
   "execution_count": 42,
   "id": "79f97899-73a2-4ace-9ed7-8d0ac35a4da1",
   "metadata": {},
   "outputs": [
    {
     "data": {
      "text/plain": [
       "0.7120261270491803"
      ]
     },
     "execution_count": 42,
     "metadata": {},
     "output_type": "execute_result"
    }
   ],
   "source": [
    "acc = balanced_accuracy_score(y_test, cv_pipe.predict(X_test))\n",
    "acc"
   ]
  },
  {
   "cell_type": "code",
   "execution_count": 87,
   "id": "7b7406d8-c86d-43e0-bd74-b95067234b5e",
   "metadata": {},
   "outputs": [
    {
     "data": {
      "text/plain": [
       "<Figure size 1800x1800 with 0 Axes>"
      ]
     },
     "metadata": {},
     "output_type": "display_data"
    },
    {
     "data": {
      "image/png": "[encoded data removed]",
      "text/plain": [
       "<Figure size 576x396 with 2 Axes>"
      ]
     },
     "metadata": {},
     "output_type": "display_data"
    }
   ],
   "source": [
    "from sklearn.metrics import confusion_matrix, ConfusionMatrixDisplay\n",
    "\n",
    "cm = confusion_matrix(y_test, cv_pipe.predict(X_test), labels=[0, 1])\n",
    "disp = ConfusionMatrixDisplay(cm, display_labels=['C_S_T', 'conspiracy'])\n",
    "\n",
    "plt.figure(figsize=(25, 25))\n",
    "disp.plot();\n",
    "#plt.show();"
   ]
  },
  {
   "cell_type": "code",
   "execution_count": 73,
   "id": "9809496f-b471-49a4-b292-4606c47e7930",
   "metadata": {},
   "outputs": [
    {
     "name": "stdout",
     "output_type": "stream",
     "text": [
      "89 33 41 87\n"
     ]
    }
   ],
   "source": [
    "tn, fp, fn, tp = confusion_matrix(y_test, cv_pipe.predict(X_test), labels=[0, 1]).ravel()\n",
    "print(tn, fp, fn, tp)"
   ]
  },
  {
   "cell_type": "code",
   "execution_count": 74,
   "id": "f780e3bb-4b7e-4e12-a82e-1a15c45f5c0d",
   "metadata": {},
   "outputs": [
    {
     "data": {
      "text/html": [
       "<div>\n",
       "<style scoped>\n",
       "    .dataframe tbody tr th:only-of-type {\n",
       "        vertical-align: middle;\n",
       "    }\n",
       "\n",
       "    .dataframe tbody tr th {\n",
       "        vertical-align: top;\n",
       "    }\n",
       "\n",
       "    .dataframe thead th {\n",
       "        text-align: right;\n",
       "    }\n",
       "</style>\n",
       "<table border=\"1\" class=\"dataframe\">\n",
       "  <thead>\n",
       "    <tr style=\"text-align: right;\">\n",
       "      <th></th>\n",
       "      <th>Word</th>\n",
       "      <th>Coef</th>\n",
       "    </tr>\n",
       "  </thead>\n",
       "  <tbody>\n",
       "    <tr>\n",
       "      <th>20835</th>\n",
       "      <td>proven</td>\n",
       "      <td>0.107768</td>\n",
       "    </tr>\n",
       "    <tr>\n",
       "      <th>6704</th>\n",
       "      <td>conspiracy</td>\n",
       "      <td>0.100273</td>\n",
       "    </tr>\n",
       "    <tr>\n",
       "      <th>3927</th>\n",
       "      <td>baseless</td>\n",
       "      <td>0.097526</td>\n",
       "    </tr>\n",
       "    <tr>\n",
       "      <th>12838</th>\n",
       "      <td>hello</td>\n",
       "      <td>0.093732</td>\n",
       "    </tr>\n",
       "    <tr>\n",
       "      <th>20740</th>\n",
       "      <td>proof</td>\n",
       "      <td>0.092658</td>\n",
       "    </tr>\n",
       "    <tr>\n",
       "      <th>...</th>\n",
       "      <td>...</td>\n",
       "      <td>...</td>\n",
       "    </tr>\n",
       "    <tr>\n",
       "      <th>15644</th>\n",
       "      <td>lawofone</td>\n",
       "      <td>-0.077703</td>\n",
       "    </tr>\n",
       "    <tr>\n",
       "      <th>25231</th>\n",
       "      <td>suspect</td>\n",
       "      <td>-0.083357</td>\n",
       "    </tr>\n",
       "    <tr>\n",
       "      <th>10183</th>\n",
       "      <td>evaluate</td>\n",
       "      <td>-0.086831</td>\n",
       "    </tr>\n",
       "    <tr>\n",
       "      <th>23920</th>\n",
       "      <td>slower</td>\n",
       "      <td>-0.089278</td>\n",
       "    </tr>\n",
       "    <tr>\n",
       "      <th>19919</th>\n",
       "      <td>pit</td>\n",
       "      <td>-0.094247</td>\n",
       "    </tr>\n",
       "  </tbody>\n",
       "</table>\n",
       "<p>29059 rows × 2 columns</p>\n",
       "</div>"
      ],
      "text/plain": [
       "             Word      Coef\n",
       "20835      proven  0.107768\n",
       "6704   conspiracy  0.100273\n",
       "3927     baseless  0.097526\n",
       "12838       hello  0.093732\n",
       "20740       proof  0.092658\n",
       "...           ...       ...\n",
       "15644    lawofone -0.077703\n",
       "25231     suspect -0.083357\n",
       "10183    evaluate -0.086831\n",
       "23920      slower -0.089278\n",
       "19919         pit -0.094247\n",
       "\n",
       "[29059 rows x 2 columns]"
      ]
     },
     "execution_count": 74,
     "metadata": {},
     "output_type": "execute_result"
    }
   ],
   "source": [
    "word_coefs = cv_pipe.named_steps['logisticregression'].coef_[0]\n",
    "words = cv_pipe.named_steps['countvectorizer'].get_feature_names_out()\n",
    "word_coef_df = pd.DataFrame({'Word': words, 'Coef': word_coefs})\n",
    "word_coef_df.sort_values(by='Coef', ascending=False)"
   ]
  },
  {
   "cell_type": "code",
   "execution_count": 78,
   "id": "8aa9d89e-09e1-4d69-8de0-df677b657634",
   "metadata": {},
   "outputs": [
    {
     "data": {
      "image/png": "[encoded data removed]",
      "text/plain": [
       "<Figure size 720x576 with 1 Axes>"
      ]
     },
     "metadata": {},
     "output_type": "display_data"
    }
   ],
   "source": [
    "plt.style.use('seaborn')\n",
    "\n",
    "plt.subplots(figsize=(10, 8))\n",
    "sns.barplot(data=word_coef_df.sort_values(by='Coef')[:10], x='Word', y='Coef', palette='coolwarm')\n",
    "plt.xticks(rotation=45)\n",
    "plt.title('10 Most Impactful Words - C_S_T', fontdict={'fontsize': 20, 'fontweight': 20}, pad=15);"
   ]
  },
  {
   "cell_type": "code",
   "execution_count": 88,
   "id": "a745636e-dca2-4606-bce7-951d5dfbe8a8",
   "metadata": {},
   "outputs": [
    {
     "data": {
      "image/png": "[encoded data removed]",
      "text/plain": [
       "<Figure size 720x576 with 1 Axes>"
      ]
     },
     "metadata": {},
     "output_type": "display_data"
    }
   ],
   "source": [
    "plt.style.use('seaborn')\n",
    "\n",
    "plt.subplots(figsize=(10, 8))\n",
    "sns.barplot(data=word_coef_df.sort_values(by='Coef')[-10:], x='Word', y='Coef', palette='coolwarm')\n",
    "plt.xticks(rotation=45)\n",
    "plt.title('10 Most Impactful Words - Conspiracy', fontdict={'fontsize': 20, 'fontweight': 20}, pad=15);"
   ]
  },
  {
   "cell_type": "markdown",
   "id": "4c54ec14-099e-49b7-8e0a-8989020f6b57",
   "metadata": {},
   "source": [
    "### ***Tfidf Vectorizer with Logistic Regression***\n",
    "\n"
   ]
  },
  {
   "cell_type": "code",
   "execution_count": 68,
   "id": "7738ed3d-954b-412f-bc26-aadc5811d8ea",
   "metadata": {},
   "outputs": [
    {
     "name": "stdout",
     "output_type": "stream",
     "text": [
      "Train Score:  0.768\n",
      "Test Score:  0.716\n"
     ]
    }
   ],
   "source": [
    "# scores w/no train_size 0.92/0.73\n",
    "tf_pipe = make_pipeline(\n",
    "    TfidfVectorizer(stop_words='english'),\n",
    "    #StandardScaler(with_mean=False),\n",
    "    LogisticRegression(max_iter=5_000, penalty='elasticnet', C=1.0, solver='saga', l1_ratio=0.65)\n",
    "    #LogisticRegression(max_iter=5_000)\n",
    ")\n",
    "\n",
    "tf_pipe.get_params()\n",
    "# tf_params = {\n",
    "#     'countvectorizer__binary': [True, False],\n",
    "#     'countvectorizer__ngram_range': [(1, 1), (1, 2), (1, 4), (2, 2)],\n",
    "#     'countvectorizer__stop_words': [None, 'english'],\n",
    "#     'countvectorizer__max_features': [None, 100, 200],\n",
    "#     'countvectorizer__max_df': [0.5, 0.75, 1]\n",
    "# }\n",
    "\n",
    "\n",
    "tf_pipe.fit(X_train, y_train)\n",
    "# gs = GridSearchCV(estimator=tf_pipe, param_grid=tf_params, n_jobs=-1)\n",
    "\n",
    "# gs.fit(X_train, y_train)\n",
    "\n",
    "print(\"Train Score: \", tf_pipe.score(X_train, y_train))\n",
    "print('Test Score: ', tf_pipe.score(X_test, y_test))\n",
    "\n",
    "#Best Params:  {'countvectorizer__binary': False, 'countvectorizer__max_df': 0.5, 'countvectorizer__max_features': None, 'countvectorizer__ngram_range': (1, 1), 'countvectorizer__stop_words': 'english'}"
   ]
  },
  {
   "cell_type": "code",
   "execution_count": 81,
   "id": "7be7b586-3f10-4e78-a755-ec6f470cbc6a",
   "metadata": {},
   "outputs": [
    {
     "data": {
      "text/plain": [
       "0.7045978483606558"
      ]
     },
     "execution_count": 81,
     "metadata": {},
     "output_type": "execute_result"
    }
   ],
   "source": [
    "acc = balanced_accuracy_score(y_test, cv_pipe.predict(X_test))\n",
    "acc"
   ]
  },
  {
   "cell_type": "code",
   "execution_count": 86,
   "id": "e6c26671-4782-4e22-b0d6-b1c2c15bd98b",
   "metadata": {},
   "outputs": [
    {
     "data": {
      "text/plain": [
       "<Figure size 1800x1800 with 0 Axes>"
      ]
     },
     "metadata": {},
     "output_type": "display_data"
    },
    {
     "data": {
      "image/png": "[encoded data removed]",
      "text/plain": [
       "<Figure size 576x396 with 2 Axes>"
      ]
     },
     "metadata": {},
     "output_type": "display_data"
    }
   ],
   "source": [
    "from sklearn.metrics import confusion_matrix, ConfusionMatrixDisplay\n",
    "\n",
    "cm = confusion_matrix(y_test, tf_pipe.predict(X_test), labels=[0, 1])\n",
    "disp = ConfusionMatrixDisplay(cm, display_labels=['C_S_T', 'conspiracy'])\n",
    "\n",
    "plt.figure(figsize=(25, 25))\n",
    "disp.plot();\n",
    "#plt.show();"
   ]
  },
  {
   "cell_type": "markdown",
   "id": "5b4d54fe-2cb0-4a99-9e4d-a2dbc1c1eeb2",
   "metadata": {},
   "source": [
    "***Summary***\n",
    "\n",
    "TfidfVectorizer ended up outperforming our countvectorizer when used with a LogisticRegression (and without StandardScaler) the score was 0.716. The parameters were optimized and we did manage to sneak over the 0.7 accuracy score that our earlier functions identified when used with defaults (though not by much).\n",
    "\n",
    "We can see from our confusion matrix that the rate of false positives and false negatives are approximately equal. This model is slightly better at correctly identify posts from r/conspiracy. \n",
    "\n",
    "In future iterations of this exercise, I would refine my data cleaning process and do lemmatizing as a preprocessor rather than a data cleaning step. \n",
    "\n",
    "Other than that, I'm satisfied with how the models turned out, especially after investigating each subreddit's selftext and understanding just how similar the post content is between these two forums. "
   ]
  }
 ],
 "metadata": {
  "kernelspec": {
   "display_name": "Python 3",
   "language": "python",
   "name": "python3"
  },
  "language_info": {
   "codemirror_mode": {
    "name": "ipython",
    "version": 3
   },
   "file_extension": ".py",
   "mimetype": "text/x-python",
   "name": "python",
   "nbconvert_exporter": "python",
   "pygments_lexer": "ipython3",
   "version": "3.8.8"
  }
 },
 "nbformat": 4,
 "nbformat_minor": 5
}
